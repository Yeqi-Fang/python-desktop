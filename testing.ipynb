{
 "cells": [
  {
   "cell_type": "code",
   "execution_count": 1,
   "metadata": {},
   "outputs": [],
   "source": [
    "import imageio"
   ]
  },
  {
   "cell_type": "code",
   "execution_count": 3,
   "metadata": {},
   "outputs": [
    {
     "name": "stdout",
     "output_type": "stream",
     "text": [
      "Reading DICOM (examining files): 1/1482 files (0.1%120/1482 files (8.1%122/1482 files (8.2%124/1482 files (8.4%126/1482 files (8.5%128/1482 files (8.6%130/1482 files (8.8%132/1482 files (8.9%134/1482 files (9.0%136/1482 files (9.2%138/1482 files (9.3%140/1482 files (9.4%148/1482 files (10.0157/1482 files (10.6162/1482 files (10.9171/1482 files (11.5175/1482 files (11.8184/1482 files (12.4193/1482 files (13.0199/1482 files (13.4203/1482 files (13.7208/1482 files (14.0210/1482 files (14.2212/1482 files (14.3214/1482 files (14.4216/1482 files (14.6224/1482 files (15.1228/1482 files (15.4233/1482 files (15.7235/1482 files (15.9238/1482 files (16.1240/1482 files (16.2243/1482 files (16.4251/1482 files (16.9260/1482 files (17.5262/1482 files (17.7265/1482 files (17.9267/1482 files (18.0269/1482 files (18.2271/1482 files (18.3273/1482 files (18.4275/1482 files (18.6277/1482 files (18.7279/1482 files (18.8281/1482 files (19.0283/1482 files (19.1285/1482 files (19.2287/1482 files (19.4289/1482 files (19.5291/1482 files (19.6293/1482 files (19.8295/1482 files (19.9297/1482 files (20.0299/1482 files (20.2301/1482 files (20.3303/1482 files (20.4305/1482 files (20.6307/1482 files (20.7309/1482 files (20.9311/1482 files (21.0313/1482 files (21.1315/1482 files (21.3317/1482 files (21.4319/1482 files (21.5321/1482 files (21.7323/1482 files (21.8325/1482 files (21.9327/1482 files (22.1329/1482 files (22.2331/1482 files (22.3333/1482 files (22.5335/1482 files (22.6337/1482 files (22.7339/1482 files (22.9341/1482 files (23.0343/1482 files (23.1345/1482 files (23.3347/1482 files (23.4349/1482 files (23.5351/1482 files (23.7353/1482 files (23.8355/1482 files (24.0357/1482 files (24.1359/1482 files (24.2361/1482 files (24.4363/1482 files (24.5365/1482 files (24.6367/1482 files (24.8369/1482 files (24.9371/1482 files (25.0373/1482 files (25.2375/1482 files (25.3377/1482 files (25.4379/1482 files (25.6381/1482 files (25.7383/1482 files (25.8385/1482 files (26.0387/1482 files (26.1389/1482 files (26.2391/1482 files (26.4393/1482 files (26.5395/1482 files (26.7397/1482 files (26.8399/1482 files (26.9401/1482 files (27.1403/1482 files (27.2405/1482 files (27.3407/1482 files (27.5409/1482 files (27.6411/1482 files (27.7413/1482 files (27.9415/1482 files (28.0417/1482 files (28.1419/1482 files (28.3421/1482 files (28.4423/1482 files (28.5425/1482 files (28.7427/1482 files (28.8429/1482 files (28.9431/1482 files (29.1433/1482 files (29.2435/1482 files (29.4437/1482 files (29.5439/1482 files (29.6441/1482 files (29.8443/1482 files (29.9445/1482 files (30.0447/1482 files (30.2449/1482 files (30.3451/1482 files (30.4453/1482 files (30.6455/1482 files (30.7457/1482 files (30.8459/1482 files (31.0461/1482 files (31.1463/1482 files (31.2465/1482 files (31.4467/1482 files (31.5469/1482 files (31.6471/1482 files (31.8473/1482 files (31.9475/1482 files (32.1477/1482 files (32.2479/1482 files (32.3481/1482 files (32.5483/1482 files (32.6485/1482 files (32.7487/1482 files (32.9489/1482 files (33.0491/1482 files (33.1493/1482 files (33.3495/1482 files (33.4502/1482 files (33.9509/1482 files (34.3518/1482 files (35.0530/1482 files (35.8550/1482 files (37.1568/1482 files (38.3582/1482 files (39.3590/1482 files (39.8600/1482 files (40.5606/1482 files (40.9614/1482 files (41.4621/1482 files (41.9629/1482 files (42.4635/1482 files (42.8643/1482 files (43.4654/1482 files (44.1662/1482 files (44.7670/1482 files (45.2680/1482 files (45.9689/1482 files (46.5698/1482 files (47.1706/1482 files (47.6714/1482 files (48.2723/1482 files (48.8731/1482 files (49.3739/1482 files (49.9751/1482 files (50.7760/1482 files (51.3765/1482 files (51.6772/1482 files (52.1780/1482 files (52.6788/1482 files (53.2796/1482 files (53.7804/1482 files (54.3812/1482 files (54.8818/1482 files (55.2830/1482 files (56.0841/1482 files (56.7857/1482 files (57.8874/1482 files (59.0887/1482 files (59.9901/1482 files (60.8921/1482 files (62.1935/1482 files (63.1944/1482 files (63.7961/1482 files (64.8978/1482 files (66.0991/1482 files (66.91001/1482 files (67.5%1009/1482 files (68.1%1019/1482 files (68.8%1029/1482 files (69.4%1039/1482 files (70.1%1049/1482 files (70.8%1059/1482 files (71.5%1068/1482 files (72.1%1078/1482 files (72.7%1089/1482 files (73.5%1099/1482 files (74.2%1109/1482 files (74.8%1119/1482 files (75.5%1129/1482 files (76.2%1137/1482 files (76.7%1144/1482 files (77.2%1153/1482 files (77.8%1160/1482 files (78.3%1168/1482 files (78.8%1177/1482 files (79.4%1184/1482 files (79.9%1192/1482 files (80.4%1201/1482 files (81.0%1210/1482 files (81.6%1219/1482 files (82.3%1227/1482 files (82.8%1236/1482 files (83.4%1246/1482 files (84.1%1256/1482 files (84.8%1266/1482 files (85.4%1276/1482 files (86.1%1286/1482 files (86.8%1296/1482 files (87.4%1306/1482 files (88.1%1316/1482 files (88.8%1326/1482 files (89.5%1336/1482 files (90.1%1346/1482 files (90.8%1357/1482 files (91.6%1367/1482 files (92.2%1375/1482 files (92.8%1386/1482 files (93.5%1396/1482 files (94.2%1406/1482 files (94.9%1416/1482 files (95.5%1426/1482 files (96.2%1436/1482 files (96.9%1446/1482 files (97.6%1456/1482 files (98.2%1466/1482 files (98.9%1476/1482 files (99.6%1482/1482 files (100.0%)\n",
      "  Found 494 correct series.\n"
     ]
    },
    {
     "data": {
      "text/plain": [
       "(2980, 2980)"
      ]
     },
     "execution_count": 3,
     "metadata": {},
     "output_type": "execute_result"
    }
   ],
   "source": [
    "vol_arr = imageio.volread(r\"F:\\Data\\new0\\275669.dcm\", 'DICOM')\n",
    "vol_arr.shape"
   ]
  },
  {
   "cell_type": "code",
   "execution_count": 5,
   "metadata": {},
   "outputs": [
    {
     "data": {
      "text/plain": [
       "imageio.core.util.Array"
      ]
     },
     "execution_count": 5,
     "metadata": {},
     "output_type": "execute_result"
    }
   ],
   "source": [
    "type(vol_arr)"
   ]
  },
  {
   "cell_type": "code",
   "execution_count": 9,
   "metadata": {},
   "outputs": [
    {
     "name": "stderr",
     "output_type": "stream",
     "text": [
      "Lossy conversion from int16 to uint8. Range [0, 3160]. Convert image to uint8 prior to saving to suppress this warning.\n"
     ]
    }
   ],
   "source": [
    "imageio.imwrite('test.png', vol_arr, format='png')"
   ]
  },
  {
   "cell_type": "code",
   "execution_count": null,
   "metadata": {},
   "outputs": [],
   "source": []
  },
  {
   "cell_type": "code",
   "execution_count": null,
   "metadata": {},
   "outputs": [],
   "source": []
  }
 ],
 "metadata": {
  "kernelspec": {
   "display_name": "Python 3",
   "language": "python",
   "name": "python3"
  },
  "language_info": {
   "codemirror_mode": {
    "name": "ipython",
    "version": 3
   },
   "file_extension": ".py",
   "mimetype": "text/x-python",
   "name": "python",
   "nbconvert_exporter": "python",
   "pygments_lexer": "ipython3",
   "version": "3.9.8"
  },
  "orig_nbformat": 4,
  "vscode": {
   "interpreter": {
    "hash": "e15717a3e8514dc32b0426c559fa30b6b730b86f32cd55b6c9bb4b40755e87f0"
   }
  }
 },
 "nbformat": 4,
 "nbformat_minor": 2
}
